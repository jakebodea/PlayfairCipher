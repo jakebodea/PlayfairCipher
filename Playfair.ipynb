{
 "cells": [
  {
   "cell_type": "code",
   "execution_count": 1,
   "metadata": {
    "ExecuteTime": {
     "end_time": "2022-05-06T16:40:06.143050Z",
     "start_time": "2022-05-06T16:40:06.137323Z"
    }
   },
   "outputs": [],
   "source": [
    "import PlayfairLibrary as plf"
   ]
  },
  {
   "cell_type": "markdown",
   "metadata": {},
   "source": [
    "# Playfair Cipher\n",
    "\n",
    "The Playfair Cipher was used in World War I as a simple but effective method of encrypted communication. Once a keyword was known, a simple 5x5 grid of all the letters of the alphabet with the keyword as the first __ letters (without repeats and with 'j' being replaced by 'i') could be constructed. At that point, messages are first encrypted by adding an 'X' between letters that are two in a row (i.e. 'well'  ->  'welXl'). Then, they are spaced out in pairs, with an 'X' added to the end if text is uneven (i.e. 'welXl'  ->  'WE LX LX'). Now, the 5x5 grid comes back into play. When looking at the pair of letters, there are three possibilities:\n",
    "* If the letters are on the same column vertically, the encrypted letter becomes the one right below it (with letters on the bottom of the grid looping back to the top)\n",
    "* If the letters are on the same row horizontally, the encrypted letter becomes the one on the right in the grid (with letters all the way right looping back to the first of the row on the left)\n",
    "* If neither of the above are true, then a rectangle is formed between the two letters on the grid. The encrypted letter becomes the letter of vertex on the same row \n",
    "\n",
    "Observe the walk-through below. "
   ]
  },
  {
   "cell_type": "code",
   "execution_count": 2,
   "metadata": {
    "ExecuteTime": {
     "end_time": "2022-05-06T16:40:06.685349Z",
     "start_time": "2022-05-06T16:40:06.676205Z"
    }
   },
   "outputs": [
    {
     "data": {
      "text/plain": [
       "'WE LX LH EL XL OT HE RE'"
      ]
     },
     "execution_count": 2,
     "metadata": {},
     "output_type": "execute_result"
    }
   ],
   "source": [
    "message = 'Well hello there'  # let's have this be the message we want to encrypt. \n",
    "\n",
    "almost_enc_message = plf.message_prep(message)# this outputs the prep for the message before the real encryption begins \n",
    "almost_enc_message"
   ]
  },
  {
   "cell_type": "code",
   "execution_count": 3,
   "metadata": {
    "ExecuteTime": {
     "end_time": "2022-05-06T16:40:06.996575Z",
     "start_time": "2022-05-06T16:40:06.991051Z"
    }
   },
   "outputs": [
    {
     "name": "stdout",
     "output_type": "stream",
     "text": [
      "G R A P E\n",
      "B C D F H\n",
      "I K L M N\n",
      "O Q S T U\n",
      "V W X Y Z\n"
     ]
    }
   ],
   "source": [
    "keyword = 'grape'  # let's have this be the keyword\n",
    "\n",
    "grid = plf.create_grid(plf.keyword_prep(keyword))  # this creates the 5x5 grid of our keyword\n",
    "\n",
    "for x in range(0, 5):\n",
    "    print(grid[0][x], grid[1][x], grid[2][x], grid[3][x], grid[4][x])# some fancy code to draw our grid "
   ]
  },
  {
   "cell_type": "code",
   "execution_count": 4,
   "metadata": {
    "ExecuteTime": {
     "end_time": "2022-05-06T16:40:07.521317Z",
     "start_time": "2022-05-06T16:40:07.517026Z"
    }
   },
   "outputs": [
    {
     "name": "stdout",
     "output_type": "stream",
     "text": [
      "Well hello there  ->  WE LX LH EL XL OT HE RE  ->  ZRSANDANASQUNHAG\n"
     ]
    }
   ],
   "source": [
    "enc_message = plf.encryption(keyword, message)\n",
    "\n",
    "print(message, ' -> ' , almost_enc_message, ' -> ' , enc_message ) \n",
    "# now the encryption has been done"
   ]
  },
  {
   "cell_type": "markdown",
   "metadata": {},
   "source": [
    "## Decrypting the Playfair Cipher\n",
    "\n",
    "The decryption process is fairly self explanatory. Once the keyword and message is known, the keyword can be used to create the grid and then the message can be undone by doing the opposite of the rules mentioned above. Take a look below to exemplify. "
   ]
  },
  {
   "cell_type": "code",
   "execution_count": 5,
   "metadata": {
    "ExecuteTime": {
     "end_time": "2022-05-06T16:40:08.747053Z",
     "start_time": "2022-05-06T16:40:08.743663Z"
    }
   },
   "outputs": [
    {
     "name": "stdout",
     "output_type": "stream",
     "text": [
      "ZRSANDANASQUNHAG  ->  WELLHELLOTHERE\n"
     ]
    }
   ],
   "source": [
    "dec_message = plf.decryption(keyword, enc_message)  # this decryption already removes all the 'X's of the decoded message\n",
    "\n",
    "print(enc_message, ' -> ' , dec_message) "
   ]
  },
  {
   "cell_type": "code",
   "execution_count": 6,
   "metadata": {
    "ExecuteTime": {
     "end_time": "2022-05-06T16:40:09.663607Z",
     "start_time": "2022-05-06T16:40:09.660023Z"
    }
   },
   "outputs": [
    {
     "name": "stdout",
     "output_type": "stream",
     "text": [
      "Well hello there  ->  WE LX LH EL XL OT HE RE  ->  ZRSANDANASQUNHAG  ->  WELLHELLOTHERE\n"
     ]
    }
   ],
   "source": [
    "# to sum, here is the whole process of the encryption and decryption\n",
    "print(message, ' -> ' , almost_enc_message, ' -> ' , enc_message, ' -> ' , dec_message)"
   ]
  },
  {
   "cell_type": "markdown",
   "metadata": {},
   "source": [
    "### A little treat :)\n",
    "\n",
    "Of course, this wouldn't be a project of mine if I didn't create an extremely simple UI to use the software. Run the next cell to see it. "
   ]
  },
  {
   "cell_type": "code",
   "execution_count": 7,
   "metadata": {
    "ExecuteTime": {
     "end_time": "2022-05-06T16:40:16.893120Z",
     "start_time": "2022-05-06T16:40:11.746896Z"
    }
   },
   "outputs": [
    {
     "name": "stdout",
     "output_type": "stream",
     "text": [
      "What message would you like encoded? Jake is my name \n",
      "What's the secret keyword? (Shh, keep it a secret) cipher\n",
      "Your encoded message is AKNIPQTHKFNH. Feel free to share if you like.\n",
      "\n",
      "Just a friendly FYI, once your friends decode the message, it will look like this: IAKEISMYNAME\n"
     ]
    }
   ],
   "source": [
    "plf.very_cool_showoff()"
   ]
  },
  {
   "cell_type": "code",
   "execution_count": null,
   "metadata": {},
   "outputs": [],
   "source": []
  }
 ],
 "metadata": {
  "kernelspec": {
   "display_name": "Python 3",
   "language": "python",
   "name": "python3"
  },
  "language_info": {
   "codemirror_mode": {
    "name": "ipython",
    "version": 3
   },
   "file_extension": ".py",
   "mimetype": "text/x-python",
   "name": "python",
   "nbconvert_exporter": "python",
   "pygments_lexer": "ipython3",
   "version": "3.8.3"
  },
  "toc": {
   "base_numbering": 1,
   "nav_menu": {},
   "number_sections": true,
   "sideBar": true,
   "skip_h1_title": false,
   "title_cell": "Table of Contents",
   "title_sidebar": "Contents",
   "toc_cell": false,
   "toc_position": {},
   "toc_section_display": true,
   "toc_window_display": false
  },
  "varInspector": {
   "cols": {
    "lenName": 16,
    "lenType": 16,
    "lenVar": 40
   },
   "kernels_config": {
    "python": {
     "delete_cmd_postfix": "",
     "delete_cmd_prefix": "del ",
     "library": "var_list.py",
     "varRefreshCmd": "print(var_dic_list())"
    },
    "r": {
     "delete_cmd_postfix": ") ",
     "delete_cmd_prefix": "rm(",
     "library": "var_list.r",
     "varRefreshCmd": "cat(var_dic_list()) "
    }
   },
   "types_to_exclude": [
    "module",
    "function",
    "builtin_function_or_method",
    "instance",
    "_Feature"
   ],
   "window_display": false
  }
 },
 "nbformat": 4,
 "nbformat_minor": 2
}
